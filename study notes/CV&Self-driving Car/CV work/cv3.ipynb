{
 "cells": [
  {
   "cell_type": "markdown",
   "metadata": {},
   "source": [
    "# 第三次课堂实验\n",
    "\n",
    "在这次实验中，我们将尝试提取基本的图像特征并使用提取的特征进行图像分类。\n",
    "\n",
    "你可以添加任意数量的 cell 来辅助你完成实验（方法：上方菜单栏 -> File -> Insert -> Insert Cell Above/Below）。"
   ]
  },
  {
   "cell_type": "code",
   "execution_count": 2,
   "metadata": {},
   "outputs": [],
   "source": [
    "import random\n",
    "import numpy as np\n",
    "from data_utils import load_CIFAR10\n",
    "import matplotlib.pyplot as plt\n",
    "%matplotlib inline\n",
    "plt.rcParams['figure.figsize'] = (15., 12.) # set default size of plots\n",
    "plt.rcParams['image.interpolation'] = 'nearest'\n",
    "plt.rcParams['image.cmap'] = 'gray'\n",
    "\n",
    "# for auto-reloading extenrnal modules\n",
    "# see http://stackoverflow.com/questions/1907993/autoreload-of-modules-in-ipython\n",
    "%load_ext autoreload\n",
    "%autoreload 2"
   ]
  },
  {
   "cell_type": "markdown",
   "metadata": {},
   "source": [
    "## 数据加载\n",
    "数据集下载地址：http://camalab.hdu.edu.cn/dataset/cifar-10-python.tar\n",
    "\n",
    "你需要把 CIFAR10 数据库放到指定的路径，或者直接修改代码中的路径。"
   ]
  },
  {
   "cell_type": "code",
   "execution_count": 72,
   "metadata": {},
   "outputs": [
    {
     "name": "stdout",
     "output_type": "stream",
     "text": [
      "(5000, 32, 32, 3)\n",
      "(500, 32, 32, 3)\n",
      "(500, 32, 32, 3)\n"
     ]
    }
   ],
   "source": [
    "def get_CIFAR10_data(num_training=5000, num_validation=500, num_test=500):\n",
    "  # Load the raw CIFAR-10 data\n",
    "  cifar10_dir = 'cifar-10-batches-py' # cifar10 数据集的路径\n",
    "    \n",
    "  X_train, y_train, X_test, y_test = load_CIFAR10(cifar10_dir)\n",
    "  \n",
    "  # 从数据集中采样\n",
    "  mask = range(num_training, num_training + num_validation)\n",
    "  X_val = X_train[mask]\n",
    "  y_val = y_train[mask]\n",
    "  mask = range(num_training)\n",
    "  X_train = X_train[mask]\n",
    "  y_train = y_train[mask]\n",
    "  mask = range(num_test)\n",
    "  X_test = X_test[mask]\n",
    "  y_test = y_test[mask]\n",
    "\n",
    "  return X_train, y_train, X_val, y_val, X_test, y_test\n",
    "\n",
    "X_train, y_train, X_val, y_val, X_test, y_test = get_CIFAR10_data()\n",
    "print X_train.shape\n",
    "print X_val.shape\n",
    "print X_test.shape"
   ]
  },
  {
   "cell_type": "markdown",
   "metadata": {},
   "source": [
    "## 提取图像特征\n",
    "[方向梯度直方图 HOG (Histogram of Oriented Gridients)](http://blog.csdn.net/zouxy09/article/details/7929348)特征检测算法，最早是由法国研究员Dalal等在CVPR-2005上提出来的，一种解决人体目标检测的图像描述子，是一种用于表征图像局部梯度方向和梯度强度分布特性的描述符。其主要思想是：在边缘具体位置未知的情况下，边缘方向的分布也可以很好的表示图像中物体的外形轮廓，但会忽略掉颜色信息。\n",
    "\n",
    "[颜色直方图 (color histogram)](https://baike.baidu.com/item/颜色直方图)特征则是提取图像的颜色信息并忽略掉纹理信息。因此同时使用这两种特征的分类效果会好于仅使用单一特征，__【加分项】你可以尝试进行对比实验验证这一假设__\n",
    "\n",
    "`hog_feature` 和 `color_histogram_hsv` 两个函数都是接收一张图像然后返回这张图像的特征向量。你可以使用这两个函数中的一个提取所有图像的特征并将其存入 `X_train_feats, X_val_feats, X_test_feats` 这三个变量中（他们分别代表训练集、验证集和测试集的特征）。"
   ]
  },
  {
   "cell_type": "code",
   "execution_count": 75,
   "metadata": {},
   "outputs": [
    {
     "name": "stdout",
     "output_type": "stream",
     "text": [
      "Done extracting features for 1000 / 5000 images\n",
      "Done extracting features for 2000 / 5000 images\n",
      "Done extracting features for 3000 / 5000 images\n",
      "Done extracting features for 4000 / 5000 images\n"
     ]
    }
   ],
   "source": [
    "from features import *\n",
    "\n",
    "################################################################################\n",
    "# TODO:                                                                        #\n",
    "# 你需要使用 hog_feature, color_histogram_hsv 两个函数完成特征的提取                #\n",
    "# 你可以在 features.py 中查看这两个函数的代码                                       #\n",
    "################################################################################\n",
    "nbins = 10 # Number of bins in the color histogram\n",
    "#hog = hog_feature(img)\n",
    "#hsv = color_histogram_hsv(img, nbins)\n",
    "#feature_fns = [hog,hsv]\n",
    "feature_fns = [hog_feature, lambda img: color_histogram_hsv(img, nbins)]\n",
    "X_train_feats = extract_features(X_train, feature_fns, verbose=True)\n",
    "X_val_feats = extract_features(X_val, feature_fns)\n",
    "X_test_feats = extract_features(X_test, feature_fns)\n",
    "################################################################################\n",
    "#                                 END OF YOUR CODE                             #\n",
    "################################################################################\n",
    "# 预处理: 减去均值\n",
    "mean_feat = np.mean(X_train_feats, axis=0, keepdims=True)\n",
    "X_train_feats -= mean_feat\n",
    "X_val_feats -= mean_feat\n",
    "X_test_feats -= mean_feat\n",
    "\n",
    "# 预处理: 除以标准差，这能保证所有的值在 0～1 之间\n",
    "std_feat = np.std(X_train_feats, axis=0, keepdims=True)\n",
    "X_train_feats /= std_feat\n",
    "X_val_feats /= std_feat\n",
    "X_test_feats /= std_feat\n",
    "\n",
    "# 预处理: 增加一个偏置值，在 K-NN 中，该步操作并无必要，但增加偏置值对其他分类器如 SVM 等有帮助。\n",
    "X_train_feats = np.hstack([X_train_feats, np.ones((X_train_feats.shape[0], 11))])\n",
    "X_val_feats = np.hstack([X_val_feats, np.ones((X_val_feats.shape[0], 1))])\n",
    "X_test_feats = np.hstack([X_test_feats, np.ones((X_test_feats.shape[0], 1))])"
   ]
  },
  {
   "cell_type": "markdown",
   "metadata": {},
   "source": [
    "### 特征可视化\n",
    "如果你是提取的颜色直方图特征，可以使用 `plt.hist(X_train[0:4])` 可视化，如果提取的是 HOG 特征，你可以使用 `plt.imshow(X_train[0])` 可视化。"
   ]
  },
  {
   "cell_type": "code",
   "execution_count": 5,
   "metadata": {},
   "outputs": [
    {
     "data": {
      "text/plain": [
       "<matplotlib.image.AxesImage at 0x7fcec3844190>"
      ]
     },
     "execution_count": 5,
     "metadata": {},
     "output_type": "execute_result"
    },
    {
     "data": {
      "image/png": "[encoded data removed]",
      "text/plain": [
       "<matplotlib.figure.Figure at 0x7fcee0559190>"
      ]
     },
     "metadata": {},
     "output_type": "display_data"
    }
   ],
   "source": [
    "# 你的代码\n",
    "plt.imshow(X_train[100])"
   ]
  },
  {
   "cell_type": "markdown",
   "metadata": {},
   "source": [
    "## 使用 k-NN 算法对图像进行分类\n",
    "\n",
    "使用上面提取的特征执行 k-NN 算法对图像分类，在这里，__【加分项】你也可以实验使用 HOG／颜色直方图特征与使用图像原始特征（像素）哪个好__。\n",
    "\n",
    "这里你需要\n",
    "\n",
    "如果你遇到了错误 `ImportError: No module named past.builtins`，可以在命令行工具中执行 `pip install future`\n",
    "\n",
    "你可能需要认真阅读玩下面两篇文章后才能完成这部分作业：\n",
    "\n",
    "- [CS231n课程笔记翻译：图像分类笔记（上）](https://zhuanlan.zhihu.com/p/20894041?refer=intelligentunit)\n",
    "- [CS231n课程笔记翻译：图像分类笔记（下）](https://zhuanlan.zhihu.com/p/20900216?refer=intelligentunit)"
   ]
  },
  {
   "cell_type": "code",
   "execution_count": 77,
   "metadata": {},
   "outputs": [
    {
     "name": "stdout",
     "output_type": "stream",
     "text": [
      "(5000, 3072) (500, 3072)\n"
     ]
    }
   ],
   "source": [
    "from k_nearest_neighbor import KNearestNeighbor\n",
    "X_train = np.reshape(X_train, (X_train.shape[0], -1))\n",
    "X_test = np.reshape(X_test, (X_test.shape[0], -1))\n",
    "print X_train.shape, X_test.shape\n",
    "classifier = KNearestNeighbor()\n",
    "classifier.train(X_train, y_train)"
   ]
  },
  {
   "cell_type": "code",
   "execution_count": 69,
   "metadata": {},
   "outputs": [],
   "source": [
    "# 使用验证集调整 k 的值\n",
    "\n",
    "k_choices = [1, 3, 5, 8, 10, 12, 15, 20, 50, 100]\n",
    "k_to_accuracies = {} # your should store the results in this dict\n",
    "\n",
    "################################################################################\n",
    "# TODO:                                                                        #\n",
    "# 你需要从 k_choice 中找出最好的 k                                                #\n",
    "#                                                                              #\n",
    "################################################################################\n",
    "\n",
    "dists1 = classifier.compute_distances_two_loops(X_test)\n",
    "#dists2 = classifier.compute_distances_one_loop(X_test)\n",
    "#dists3 = classifier.compute_distances_no_loops(X_test)\n",
    "#print dists1.shape\n"
   ]
  },
  {
   "cell_type": "code",
   "execution_count": 67,
   "metadata": {},
   "outputs": [
    {
     "name": "stdout",
     "output_type": "stream",
     "text": [
      "in k = 1 Got 137/500  correct => accuracy: 0.274000\n",
      "in k = 3 Got 136/500  correct => accuracy: 0.272000\n",
      "in k = 5 Got 139/500  correct => accuracy: 0.278000\n",
      "in k = 8 Got 137/500  correct => accuracy: 0.274000\n",
      "in k = 10 Got 141/500  correct => accuracy: 0.282000\n",
      "in k = 12 Got 128/500  correct => accuracy: 0.256000\n",
      "in k = 15 Got 136/500  correct => accuracy: 0.272000\n",
      "in k = 20 Got 136/500  correct => accuracy: 0.272000\n",
      "in k = 50 Got 126/500  correct => accuracy: 0.252000\n",
      "in k = 100 Got 111/500  correct => accuracy: 0.222000\n"
     ]
    }
   ],
   "source": [
    "for k in k_choices:\n",
    "    y_test_pred = classifier.predict_labels(dists1, k)\n",
    "    num_correct = np.sum(y_test_pred == y_test)\n",
    "    k_to_accuracies = float(num_correct) / num_test\n",
    "    print 'in k = %d Got %d/%d  correct => accuracy: %f' % (k,num_correct,num_test, k_to_accuracies)\n",
    "################################################################################\n",
    "#                                 END OF YOUR CODE                             #\n",
    "################################################################################"
   ]
  },
  {
   "cell_type": "code",
   "execution_count": 66,
   "metadata": {},
   "outputs": [
    {
     "ename": "TypeError",
     "evalue": "'float' object is not iterable",
     "output_type": "error",
     "traceback": [
      "\u001b[0;31m---------------------------------------------------------------------------\u001b[0m",
      "\u001b[0;31mTypeError\u001b[0m                                 Traceback (most recent call last)",
      "\u001b[0;32m<ipython-input-66-d1aefe6b736d>\u001b[0m in \u001b[0;36m<module>\u001b[0;34m()\u001b[0m\n\u001b[1;32m      1\u001b[0m \u001b[0;31m#for k in sorted(k_to_accuracies):\u001b[0m\u001b[0;34m\u001b[0m\u001b[0;34m\u001b[0m\u001b[0m\n\u001b[0;32m----> 2\u001b[0;31m \u001b[0;32mfor\u001b[0m \u001b[0mk\u001b[0m \u001b[0;32min\u001b[0m \u001b[0mfloat\u001b[0m\u001b[0;34m(\u001b[0m\u001b[0mk_to_accuracies\u001b[0m\u001b[0;34m)\u001b[0m\u001b[0;34m:\u001b[0m\u001b[0;34m\u001b[0m\u001b[0m\n\u001b[0m\u001b[1;32m      3\u001b[0m     \u001b[0;32mprint\u001b[0m \u001b[0;34m'k = %d, accuracy = %f'\u001b[0m \u001b[0;34m%\u001b[0m\u001b[0;34m(\u001b[0m\u001b[0;36m1\u001b[0m\u001b[0;34m,\u001b[0m \u001b[0mk_to_accuracies\u001b[0m\u001b[0;34m[\u001b[0m\u001b[0mk\u001b[0m\u001b[0;34m]\u001b[0m\u001b[0;34m)\u001b[0m\u001b[0;34m\u001b[0m\u001b[0m\n",
      "\u001b[0;31mTypeError\u001b[0m: 'float' object is not iterable"
     ]
    }
   ],
   "source": [
    "for k in sorted(k_to_accuracies):\n",
    "    print 'k = %d, accuracy = %f' %(1, k_to_accuracies[k])"
   ]
  },
  {
   "cell_type": "code",
   "execution_count": 80,
   "metadata": {},
   "outputs": [
    {
     "name": "stdout",
     "output_type": "stream",
     "text": [
      "0.282\n"
     ]
    }
   ],
   "source": [
    "# 评估你的算法\n",
    "\n",
    "best_k = 10  # 填你上面选出的 K 值\n",
    "\n",
    "# 计算测试集上准确率\n",
    "#y_test_pred = classifier.predict(X_test_feats, k=best_k,num_loops = 2)\n",
    "y_test_pred = classifier.predict(X_test, k=best_k,num_loops = 2)\n",
    "test_accuracy = np.mean(y_test == y_test_pred)\n",
    "print test_accuracy"
   ]
  }
 ],
 "metadata": {
  "anaconda-cloud": {},
  "kernelspec": {
   "display_name": "Python 2",
   "language": "python",
   "name": "python2"
  },
  "language_info": {
   "codemirror_mode": {
    "name": "ipython",
    "version": 2
   },
   "file_extension": ".py",
   "mimetype": "text/x-python",
   "name": "python",
   "nbconvert_exporter": "python",
   "pygments_lexer": "ipython2",
   "version": "2.7.12"
  }
 },
 "nbformat": 4,
 "nbformat_minor": 1
}
