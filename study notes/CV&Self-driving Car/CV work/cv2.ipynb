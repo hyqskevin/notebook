{
 "cells": [
  {
   "cell_type": "markdown",
   "metadata": {
    "collapsed": true
   },
   "source": [
    "# 第二次课堂实验\n",
    "scikit-image 是专注于图像处理的 Python 包，并且使用原生的 NumPy 数组作为图像对象。本次实验中，你将使用 skimage 库使用霍夫变换来检测图片中的几何形状，包括直线、圆和椭圆；另外，你也需要动手实现均值迭代阈值法和 OTSU 法两个基本的图像分割算法。\n",
    "\n",
    "scikit-image 已经包含在 Anaconda 环境内，文档地址：http://scikit-image.org/docs/dev/user_guide.html\n",
    "\n",
    "## 实验 1 - 霍夫线变换\n",
    "霍夫变换 wiki: https://zh.wikipedia.org/wiki/%E9%9C%8D%E5%A4%AB%E5%8F%98%E6%8D%A2\n",
    "### 生成测试图片"
   ]
  },
  {
   "cell_type": "code",
   "execution_count": null,
   "metadata": {},
   "outputs": [],
   "source": [
    "import skimage.transform as st\n",
    "import numpy as np\n",
    "import matplotlib.pyplot as plt\n",
    "%matplotlib inline\n",
    "\n",
    "# 生成测试图片\n",
    "image = np.zeros((80, 80))\n",
    "idx = np.arange(10, 70)\n",
    "image[idx[::-1], idx] = 255 # 绘制 \"\\\"\n",
    "image[idx, idx] = 255       # 绘制 \"/\"\n",
    "\n",
    "plt.imshow(image, plt.cm.gray)"
   ]
  },
  {
   "cell_type": "markdown",
   "metadata": {},
   "source": [
    "### 显示 hough 变换所得数据\n",
    "这里你需要使用函数 skimage.transform.hough_line(img) ，[查看文档说明](http://scikit-image.org/docs/dev/api/skimage.transform.html#skimage.transform.hough_line)。\n",
    "\n",
    "- hough_line 返回值: (h, theta, distance)\n",
    "    - h: 霍夫变换累积器 \n",
    "    - theta: 点与x轴的夹角集合，一般为0-179度\n",
    "    - distance: 点到原点的距离\n",
    "- Tips: \n",
    "    - 可直接使用 plt.show(np.log(1+h)) 可视化霍夫变换得到的数据，这里你也需要考虑为何不直接 plt.show(h)"
   ]
  },
  {
   "cell_type": "code",
   "execution_count": null,
   "metadata": {
    "collapsed": true
   },
   "outputs": [],
   "source": [
    "# TODO:\n",
    "# 你的代码\n",
    "\n",
    "\n",
    "\n"
   ]
  },
  {
   "cell_type": "markdown",
   "metadata": {},
   "source": [
    "### 显示检测出的线条\n",
    "具体的代码已经给出，你可以结合 [霍夫变换 wiki](https://zh.wikipedia.org/wiki/%E9%9C%8D%E5%A4%AB%E5%8F%98%E6%8D%A2) 理解他们。"
   ]
  },
  {
   "cell_type": "code",
   "execution_count": null,
   "metadata": {},
   "outputs": [],
   "source": [
    "fig = plt.figure(figsize=(15, 15))\n",
    "ax0 = fig.add_subplot(221)\n",
    "ax0.imshow(image, plt.cm.gray)\n",
    "\n",
    "ax1 = fig.add_subplot(222)\n",
    "row, col = image.shape\n",
    "\n",
    "# 这里的 h, theta, d 是上一部分 hough_line 的返回值\n",
    "for _, angle, dist in zip(*st.hough_line_peaks(h, theta, d)):\n",
    "    y0 = (dist - 0 * np.cos(angle)) / np.sin(angle)\n",
    "    y1 = (dist - col * np.cos(angle)) / np.sin(angle)\n",
    "    ax1.plot((0, col), (y0, y1), '-r')"
   ]
  },
  {
   "cell_type": "markdown",
   "metadata": {},
   "source": [
    "## 实验 2 - 霍夫圆和椭圆变换\n",
    "与霍夫线变换类似，如果给定圆心和半径，检测其它点是否在圆上即可。在图像中，我们将每个非0像素点作为圆心点，以一定的半径进行检测，如果有一个点在圆上，我们就对这个圆心累加一次。如果检测到一个圆，那么这个圆心点就累加到最大，成为峰值。因此，在检测结果中，一个峰值点，就对应一个圆心点。\n",
    "\n",
    "- 霍夫圆检测的函数：\n",
    "    - skimage.transform.hough_circle(image, radius) [Doc](http://scikit-image.org/docs/dev/api/skimage.transform.html#skimage.transform.hough_circle)\n",
    "        - radius是一个数组，表示半径的集合，如[3，4，5，6]\n",
    "        - 返回一个3维的数组（radius index, M, N), 第一维表示半径的索引，后面两维表示图像的尺寸\n",
    "\n",
    "### 绘制两个圆形"
   ]
  },
  {
   "cell_type": "code",
   "execution_count": null,
   "metadata": {},
   "outputs": [],
   "source": [
    "from skimage import draw\n",
    "img = np.zeros((250, 250))\n",
    "rr0, cc0 = draw.circle_perimeter(60, 60, 50)\n",
    "rr1, cc1 = draw.circle_perimeter(150, 150, 60)\n",
    "img[cc0, rr0] = 255\n",
    "img[rr1, cc1] = 255\n",
    "\n",
    "# 显示原图\n",
    "plt.figure(figsize=(6, 6))\n",
    "plt.imshow(img, plt.cm.gray)"
   ]
  },
  {
   "cell_type": "markdown",
   "metadata": {},
   "source": [
    "### 使用霍夫圆变换将他们检测出来"
   ]
  },
  {
   "cell_type": "code",
   "execution_count": null,
   "metadata": {},
   "outputs": [],
   "source": [
    "from skimage import feature\n",
    "hough_radii = np.arange(50, 80, 5)  #半径范围\n",
    "hough_res = st.hough_circle(img[:,:], hough_radii)  #圆变换 \n",
    "\n",
    "centers = []  #保存所有圆心点坐标\n",
    "accums = []   #累积值\n",
    "radii = []    #半径\n",
    "\n",
    "for radius, h in zip(hough_radii, hough_res):\n",
    "    #每一个半径值，取出其中两个圆\n",
    "    num_peaks = 2\n",
    "    peaks =feature.peak_local_max(h, num_peaks=num_peaks) #取出峰值\n",
    "    centers.extend(peaks)\n",
    "    accums.extend(h[peaks[:, 0], peaks[:, 1]])\n",
    "    radii.extend([radius] * num_peaks)\n",
    "\n",
    "# 画出最接近的圆\n",
    "image = np.copy(img)\n",
    "image.fill(255)\n",
    "for idx in np.argsort(accums)[::-1][:2]:\n",
    "    center_x, center_y = centers[idx]\n",
    "    radius = radii[idx]\n",
    "    cx, cy = draw.circle_perimeter(center_y, center_x, radius)\n",
    "    image[cy, cx] = 0\n",
    "\n",
    "plt.figure(figsize=(6, 6))\n",
    "plt.imshow(image, plt.cm.gray)"
   ]
  },
  {
   "cell_type": "markdown",
   "metadata": {},
   "source": [
    "## 实验 3 - 在真实样本上测试\n",
    "### 霍夫圆变换 - 检测出咖啡图片中的椭圆杯口\n",
    "需要注意的是__霍夫椭圆变换速度非常慢，应避免图像太大。__"
   ]
  },
  {
   "cell_type": "code",
   "execution_count": null,
   "metadata": {},
   "outputs": [],
   "source": [
    "from skimage import color, data\n",
    "#加载图片，转换成灰度图并检测边缘\n",
    "image_rgb = data.coffee() \n",
    "image_rgb = image_rgb[0:220, 160:420] #裁剪原图像，不然速度非常慢\n",
    "image_gray = color.rgb2gray(image_rgb)\n",
    "edges = feature.canny(image_gray, sigma=2.0, low_threshold=0.55, high_threshold=0.8)\n",
    "\n",
    "#执行椭圆变换\n",
    "result = st.hough_ellipse(edges, accuracy=20, threshold=250,min_size=100, max_size=120)\n",
    "result.sort(order='accumulator') #根据累加器排序\n",
    "\n",
    "#估计椭圆参数\n",
    "best = list(result[-1])  #排完序后取最后一个\n",
    "yc, xc, a, b = [int(round(x)) for x in best[1:5]]\n",
    "orientation = best[5]\n",
    "\n",
    "#在原图上画出椭圆\n",
    "cy, cx = draw.ellipse_perimeter(yc, xc, a, b, orientation)\n",
    "image_rgb[cy, cx] = (0., 0., 255.) #在原图中用蓝色表示检测出的椭圆\n",
    "\n",
    "#分别用白色表示canny边缘，用红色表示检测出的椭圆，进行对比\n",
    "edges = color.gray2rgb(edges)\n",
    "edges[cy, cx] = (250, 0, 0) \n",
    "\n",
    "# 创建显示窗口.\n",
    "fig2, (ax1, ax2) = plt.subplots(ncols=2, nrows=1, figsize=(8, 4))\n",
    "\n",
    "# 显示原图像\n",
    "ax1.set_title('Original picture')\n",
    "ax1.imshow(image_rgb)\n",
    "\n",
    "# 显示canny边缘\n",
    "ax2.set_title('Edge (white) and result (red)')\n",
    "ax2.imshow(edges[:,:,0], plt.cm.gray)\n",
    "\n",
    "plt.show()"
   ]
  },
  {
   "cell_type": "markdown",
   "metadata": {},
   "source": [
    "### 霍夫线变换\n",
    "- 这里可以使用了另一个检测直线的霍夫变换函数 __skimage.transform.probabilistic_hough_line(img, threshold=10, line_length=5,line_gap=3)__\n",
    "    - 参数：\n",
    "        - img: 待检测的图像。\n",
    "        - threshold： 阈值，可先项，默认为10\n",
    "        - line_length: 检测的最短线条长度，默认为50\n",
    "        - line_gap: 线条间的最大间隙。增大这个值可以合并破碎的线条。默认为10\n",
    "    - 返回值：\n",
    "        - lines: 线条列表, 格式如((x0, y0), (x1, y0))，标明开始点和结束点。"
   ]
  },
  {
   "cell_type": "code",
   "execution_count": null,
   "metadata": {
    "collapsed": true
   },
   "outputs": [],
   "source": [
    "# 使用 Probabilistic Hough Transform.\n",
    "image = data.camera()  # 从 data 模块中读取示例图片\n",
    "edges = feature.canny(image, sigma=2, low_threshold=1, high_threshold=25)\n",
    "lines = st.probabilistic_hough_line(edges, threshold=10, line_length=5,line_gap=3)\n",
    "\n",
    "# 创建显示窗口.\n",
    "# 你的代码...\n",
    "# ...\n",
    "\n",
    "# 显示原图像\n",
    "# 你的代码...\n",
    "# ...\n",
    "\n",
    "# 显示canny边缘\n",
    "# 你的代码...\n",
    "# ...\n",
    "\n",
    "\n",
    "# 用plot绘制出所有的直线\n",
    "ax2.imshow(edges * 0)\n",
    "for line in lines:\n",
    "    p0, p1 = line\n",
    "    ax2.plot((p0[0], p1[0]), (p0[1], p1[1]))\n",
    "row2, col2 = image.shape\n",
    "ax2.axis((0, col2, row2, 0))\n",
    "ax2.set_title('Probabilistic Hough')\n",
    "ax2.set_axis_off()\n",
    "plt.show()"
   ]
  },
  {
   "cell_type": "markdown",
   "metadata": {},
   "source": [
    "## 实验四 - 均值迭代阈值分割法\n",
    "- 这里需要你动手实现该算法，最终效果已经给出\n",
    "    - Step1. 选择一个初始的估计阈值T（可以用图像的平均灰度值作为初始阈值）\n",
    "    - Step2. 用该阈值把图像分割成两个部分R1和R2\n",
    "    - Step3. 分别计算R1和R2的灰度均值μ1和μ2\n",
    "    - Step4. 选择一个新的阈值T＝(μ1＋μ2)/2\n",
    "    - Step5. 重复2-4直至后续迭代中平均灰度值μ1和μ2保持不变\n",
    "- 完成这部分代码后，你也可以尝试 skimage.filters 库中的其他函数达到近似的效果，比如 threshold_otsu, threshold_li 等"
   ]
  },
  {
   "cell_type": "code",
   "execution_count": null,
   "metadata": {
    "collapsed": true
   },
   "outputs": [],
   "source": [
    "from skimage import io\n",
    "image = io.imread('Lenna.jpg')\n",
    "image = color.rgb2gray(image)\n",
    "# TODO: 这里是你的代码\n",
    "# ...\n"
   ]
  },
  {
   "cell_type": "code",
   "execution_count": null,
   "metadata": {},
   "outputs": [],
   "source": [
    "# 最终效果\n",
    "from skimage import filters\n",
    "val = filters.threshold_isodata(image)\n",
    "mask = image > val\n",
    "plt.imshow(mask, plt.cm.gray)"
   ]
  }
 ],
 "metadata": {
  "anaconda-cloud": {},
  "kernelspec": {
   "display_name": "Python [conda root]",
   "language": "python",
   "name": "conda-root-py"
  },
  "language_info": {
   "codemirror_mode": {
    "name": "ipython",
    "version": 2
   },
   "file_extension": ".py",
   "mimetype": "text/x-python",
   "name": "python",
   "nbconvert_exporter": "python",
   "pygments_lexer": "ipython2",
   "version": "2.7.12"
  }
 },
 "nbformat": 4,
 "nbformat_minor": 2
}
